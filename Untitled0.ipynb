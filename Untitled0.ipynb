{
  "nbformat": 4,
  "nbformat_minor": 0,
  "metadata": {
    "colab": {
      "provenance": [],
      "authorship_tag": "ABX9TyMQ4Xb8W9VGDNQQCzkZ7iGq",
      "include_colab_link": true
    },
    "kernelspec": {
      "name": "python3",
      "display_name": "Python 3"
    },
    "language_info": {
      "name": "python"
    }
  },
  "cells": [
    {
      "cell_type": "markdown",
      "metadata": {
        "id": "view-in-github",
        "colab_type": "text"
      },
      "source": [
        "<a href=\"https://colab.research.google.com/github/ksaishivani/Password-generator/blob/main/Untitled0.ipynb\" target=\"_parent\"><img src=\"https://colab.research.google.com/assets/colab-badge.svg\" alt=\"Open In Colab\"/></a>"
      ]
    },
    {
      "cell_type": "code",
      "execution_count": 2,
      "metadata": {
        "colab": {
          "base_uri": "https://localhost:8080/"
        },
        "id": "tzNZugpCsoTf",
        "outputId": "1ac7031f-5b79-4b48-d1c1-dd73fa31675b"
      },
      "outputs": [
        {
          "output_type": "stream",
          "name": "stdout",
          "text": [
            "=== Password Generator ===\n",
            "Enter the desired password length: Shivani@41\n",
            "Invalid input. Please enter a number.\n"
          ]
        }
      ],
      "source": [
        "import string\n",
        "import random\n",
        "\n",
        "def generate_password(length):\n",
        "    # Characters to choose from\n",
        "    characters = string.ascii_letters + string.digits + string.punctuation\n",
        "    # Generate random password\n",
        "    password = ''.join(random.choice(characters) for _ in range(length))\n",
        "    return password\n",
        "\n",
        "def main():\n",
        "    print(\"=== Password Generator ===\")\n",
        "\n",
        "    # Ask user for password length\n",
        "    try:\n",
        "        length = int(input(\"Enter the desired password length: \"))\n",
        "        if length <= 0:\n",
        "            print(\"Password length must be greater than 0.\")\n",
        "            return\n",
        "    except ValueError:\n",
        "        print(\"Invalid input. Please enter a number.\")\n",
        "        return\n",
        "\n",
        "    # Generate and display password\n",
        "    password = generate_password(length)\n",
        "    print(\"\\nYour Generated Password is:\")\n",
        "    print(password)\n",
        "\n",
        "if __name__ == \"__main__\":\n",
        "    main()"
      ]
    }
  ]
}